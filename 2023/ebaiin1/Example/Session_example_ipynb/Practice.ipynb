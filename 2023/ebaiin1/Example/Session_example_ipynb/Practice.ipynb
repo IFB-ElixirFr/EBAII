{
 "cells": [
  {
   "cell_type": "markdown",
   "metadata": {},
   "source": [
    "# Pure Ipynb: practice part\n",
    "\n",
    "Inclusion of IPython notebook is quite straightforward."
   ]
  },
  {
   "cell_type": "markdown",
   "metadata": {},
   "source": [
    "Environment conda: `mamba env create -f environment.yaml -p ./ipython-notebook`\n",
    "\n",
    "Load conda environment: `conda activate --no-stack ./ipython-notebook`\n",
    "\n",
    "Convert ipython-notebook to rst: `jupyter nbconvert --to rst Practice.ipynb` for Practice.rst, and `jupyter nbconvert --to rst Theory.ipynb`\n",
    "\n",
    "Now go to general section to compile the whole book."
   ]
  },
  {
   "cell_type": "markdown",
   "metadata": {},
   "source": [
    "#### PS:\n",
    "\n",
    "Note you can activate a conda environment within a notebook. See on [StackOverflow](https://stackoverflow.com/questions/74597051/activate-conda-environment-inside-r-script). But I would highly discourage it."
   ]
  }
 ],
 "metadata": {
  "kernelspec": {
   "display_name": "Python 3.10.6 64-bit",
   "language": "python",
   "name": "python3"
  },
  "language_info": {
   "codemirror_mode": {
    "name": "ipython",
    "version": 3
   },
   "file_extension": ".py",
   "mimetype": "text/x-python",
   "name": "python",
   "nbconvert_exporter": "python",
   "pygments_lexer": "ipython3",
   "version": "3.10.6"
  },
  "orig_nbformat": 4,
  "vscode": {
   "interpreter": {
    "hash": "916dbcbb3f70747c44a77c7bcd40155683ae19c65e1c03b4aa3499c5328201f1"
   }
  }
 },
 "nbformat": 4,
 "nbformat_minor": 2
}
